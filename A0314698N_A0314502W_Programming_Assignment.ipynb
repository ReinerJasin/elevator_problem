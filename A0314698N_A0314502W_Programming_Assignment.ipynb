{
  "cells": [
    {
      "cell_type": "markdown",
      "source": [
        "# Team information\n",
        "\n",
        "| Team member 1     | Details  | Team member 2     | Details  |\n",
        "| :---------------- | :------: | :---------------- | :------: |\n",
        "| Name              | Nadia Victoria Aritonang         | Name              | Reiner Anggriawan Jasin |\n",
        "| NUSNet (Exxxxxxx) | E1505949         | NUSNet (Exxxxxxx) | E1503344 |\n",
        "| Matric (AxxxxxxxZ)| A0314698N         | Matric (AxxxxxxxZ)| A0314502W |\n"
      ],
      "metadata": {
        "id": "lCNr2rW27nBk"
      }
    },
    {
      "cell_type": "code",
      "source": [
        "# Connect to Google drive to save your model, etc.,\n",
        "\n",
        "from google.colab import drive\n",
        "drive.mount('/content/drive')"
      ],
      "metadata": {
        "id": "NQp3ObqD9d4u",
        "colab": {
          "base_uri": "https://localhost:8080/"
        },
        "outputId": "e9888a6f-733d-4f7d-dd7a-cefb364bb063"
      },
      "execution_count": null,
      "outputs": [
        {
          "output_type": "stream",
          "name": "stdout",
          "text": [
            "Drive already mounted at /content/drive; to attempt to forcibly remount, call drive.mount(\"/content/drive\", force_remount=True).\n"
          ]
        }
      ]
    },
    {
      "cell_type": "markdown",
      "source": [
        "# Installation and setup\n",
        "\n",
        "The gym environment requires an older version numpy (and corresponding packages). <br>\n",
        "The following cell contains the `requirements.txt` to setup the python environment used in the rest of this notebook.\n"
      ],
      "metadata": {
        "id": "KCmfJeb_BMHM"
      }
    },
    {
      "cell_type": "code",
      "source": [
        "%%writefile requirements.txt\n",
        "\n",
        "cloudpickle==3.1.1\n",
        "contourpy==1.3.0\n",
        "cycler==0.12.1\n",
        "filelock==3.18.0\n",
        "fonttools==4.56.0\n",
        "fsspec==2025.3.0\n",
        "gym==0.26.2\n",
        "gym-notices==0.0.8\n",
        "importlib_metadata==8.6.1\n",
        "importlib_resources==6.5.2\n",
        "Jinja2==3.1.6\n",
        "kiwisolver==1.4.7\n",
        "MarkupSafe==3.0.2\n",
        "matplotlib==3.9.4\n",
        "mpmath==1.3.0\n",
        "networkx==3.2.1\n",
        "numpy==1.24.2\n",
        "nvidia-cublas-cu12==12.4.5.8\n",
        "nvidia-cuda-cupti-cu12==12.4.127\n",
        "nvidia-cuda-nvrtc-cu12==12.4.127\n",
        "nvidia-cuda-runtime-cu12==12.4.127\n",
        "nvidia-cudnn-cu12==9.1.0.70\n",
        "nvidia-cufft-cu12==11.2.1.3\n",
        "nvidia-curand-cu12==10.3.5.147\n",
        "nvidia-cusolver-cu12==11.6.1.9\n",
        "nvidia-cusparse-cu12==12.3.1.170\n",
        "nvidia-cusparselt-cu12==0.6.2\n",
        "nvidia-nccl-cu12==2.21.5\n",
        "nvidia-nvjitlink-cu12==12.4.127\n",
        "nvidia-nvtx-cu12==12.4.127\n",
        "packaging==24.2\n",
        "pillow==11.1.0\n",
        "ply==3.11\n",
        "pygame==2.6.1\n",
        "pyparsing==3.2.1\n",
        "python-dateutil==2.9.0.post0\n",
        "six==1.17.0\n",
        "sympy==1.13.1\n",
        "torch==2.6.0\n",
        "tqdm==4.67.1\n",
        "triton==3.2.0\n",
        "zipp==3.21.0"
      ],
      "metadata": {
        "colab": {
          "base_uri": "https://localhost:8080/"
        },
        "id": "eWitd3VTBgwU",
        "outputId": "aeff6ce8-b8b8-4975-e98d-78c8b314b572"
      },
      "execution_count": null,
      "outputs": [
        {
          "output_type": "stream",
          "name": "stdout",
          "text": [
            "Overwriting requirements.txt\n"
          ]
        }
      ]
    },
    {
      "cell_type": "markdown",
      "source": [
        "Now install the requirements.\n",
        "\n",
        "You may be asked to restart the session to load the installed versions of the packages. If so, restart the session and continue using the notebook"
      ],
      "metadata": {
        "id": "9_9eK2YJBoGb"
      }
    },
    {
      "cell_type": "code",
      "source": [
        "!pip install -r requirements.txt"
      ],
      "metadata": {
        "id": "fXtGcN8u94_N",
        "colab": {
          "base_uri": "https://localhost:8080/"
        },
        "outputId": "059da2be-9445-49aa-d002-36400383469d"
      },
      "execution_count": null,
      "outputs": [
        {
          "output_type": "stream",
          "name": "stdout",
          "text": [
            "Requirement already satisfied: cloudpickle==3.1.1 in /usr/local/lib/python3.11/dist-packages (from -r requirements.txt (line 2)) (3.1.1)\n",
            "Requirement already satisfied: contourpy==1.3.0 in /usr/local/lib/python3.11/dist-packages (from -r requirements.txt (line 3)) (1.3.0)\n",
            "Requirement already satisfied: cycler==0.12.1 in /usr/local/lib/python3.11/dist-packages (from -r requirements.txt (line 4)) (0.12.1)\n",
            "Requirement already satisfied: filelock==3.18.0 in /usr/local/lib/python3.11/dist-packages (from -r requirements.txt (line 5)) (3.18.0)\n",
            "Requirement already satisfied: fonttools==4.56.0 in /usr/local/lib/python3.11/dist-packages (from -r requirements.txt (line 6)) (4.56.0)\n",
            "Requirement already satisfied: fsspec==2025.3.0 in /usr/local/lib/python3.11/dist-packages (from -r requirements.txt (line 7)) (2025.3.0)\n",
            "Requirement already satisfied: gym==0.26.2 in /usr/local/lib/python3.11/dist-packages (from -r requirements.txt (line 8)) (0.26.2)\n",
            "Requirement already satisfied: gym-notices==0.0.8 in /usr/local/lib/python3.11/dist-packages (from -r requirements.txt (line 9)) (0.0.8)\n",
            "Requirement already satisfied: importlib_metadata==8.6.1 in /usr/local/lib/python3.11/dist-packages (from -r requirements.txt (line 10)) (8.6.1)\n",
            "Requirement already satisfied: importlib_resources==6.5.2 in /usr/local/lib/python3.11/dist-packages (from -r requirements.txt (line 11)) (6.5.2)\n",
            "Requirement already satisfied: Jinja2==3.1.6 in /usr/local/lib/python3.11/dist-packages (from -r requirements.txt (line 12)) (3.1.6)\n",
            "Requirement already satisfied: kiwisolver==1.4.7 in /usr/local/lib/python3.11/dist-packages (from -r requirements.txt (line 13)) (1.4.7)\n",
            "Requirement already satisfied: MarkupSafe==3.0.2 in /usr/local/lib/python3.11/dist-packages (from -r requirements.txt (line 14)) (3.0.2)\n",
            "Requirement already satisfied: matplotlib==3.9.4 in /usr/local/lib/python3.11/dist-packages (from -r requirements.txt (line 15)) (3.9.4)\n",
            "Requirement already satisfied: mpmath==1.3.0 in /usr/local/lib/python3.11/dist-packages (from -r requirements.txt (line 16)) (1.3.0)\n",
            "Requirement already satisfied: networkx==3.2.1 in /usr/local/lib/python3.11/dist-packages (from -r requirements.txt (line 17)) (3.2.1)\n",
            "Requirement already satisfied: numpy==1.24.2 in /usr/local/lib/python3.11/dist-packages (from -r requirements.txt (line 18)) (1.24.2)\n",
            "Requirement already satisfied: nvidia-cublas-cu12==12.4.5.8 in /usr/local/lib/python3.11/dist-packages (from -r requirements.txt (line 19)) (12.4.5.8)\n",
            "Requirement already satisfied: nvidia-cuda-cupti-cu12==12.4.127 in /usr/local/lib/python3.11/dist-packages (from -r requirements.txt (line 20)) (12.4.127)\n",
            "Requirement already satisfied: nvidia-cuda-nvrtc-cu12==12.4.127 in /usr/local/lib/python3.11/dist-packages (from -r requirements.txt (line 21)) (12.4.127)\n",
            "Requirement already satisfied: nvidia-cuda-runtime-cu12==12.4.127 in /usr/local/lib/python3.11/dist-packages (from -r requirements.txt (line 22)) (12.4.127)\n",
            "Requirement already satisfied: nvidia-cudnn-cu12==9.1.0.70 in /usr/local/lib/python3.11/dist-packages (from -r requirements.txt (line 23)) (9.1.0.70)\n",
            "Requirement already satisfied: nvidia-cufft-cu12==11.2.1.3 in /usr/local/lib/python3.11/dist-packages (from -r requirements.txt (line 24)) (11.2.1.3)\n",
            "Requirement already satisfied: nvidia-curand-cu12==10.3.5.147 in /usr/local/lib/python3.11/dist-packages (from -r requirements.txt (line 25)) (10.3.5.147)\n",
            "Requirement already satisfied: nvidia-cusolver-cu12==11.6.1.9 in /usr/local/lib/python3.11/dist-packages (from -r requirements.txt (line 26)) (11.6.1.9)\n",
            "Requirement already satisfied: nvidia-cusparse-cu12==12.3.1.170 in /usr/local/lib/python3.11/dist-packages (from -r requirements.txt (line 27)) (12.3.1.170)\n",
            "Requirement already satisfied: nvidia-cusparselt-cu12==0.6.2 in /usr/local/lib/python3.11/dist-packages (from -r requirements.txt (line 28)) (0.6.2)\n",
            "Requirement already satisfied: nvidia-nccl-cu12==2.21.5 in /usr/local/lib/python3.11/dist-packages (from -r requirements.txt (line 29)) (2.21.5)\n",
            "Requirement already satisfied: nvidia-nvjitlink-cu12==12.4.127 in /usr/local/lib/python3.11/dist-packages (from -r requirements.txt (line 30)) (12.4.127)\n",
            "Requirement already satisfied: nvidia-nvtx-cu12==12.4.127 in /usr/local/lib/python3.11/dist-packages (from -r requirements.txt (line 31)) (12.4.127)\n",
            "Requirement already satisfied: packaging==24.2 in /usr/local/lib/python3.11/dist-packages (from -r requirements.txt (line 32)) (24.2)\n",
            "Requirement already satisfied: pillow==11.1.0 in /usr/local/lib/python3.11/dist-packages (from -r requirements.txt (line 33)) (11.1.0)\n",
            "Requirement already satisfied: ply==3.11 in /usr/local/lib/python3.11/dist-packages (from -r requirements.txt (line 34)) (3.11)\n",
            "Requirement already satisfied: pygame==2.6.1 in /usr/local/lib/python3.11/dist-packages (from -r requirements.txt (line 35)) (2.6.1)\n",
            "Requirement already satisfied: pyparsing==3.2.1 in /usr/local/lib/python3.11/dist-packages (from -r requirements.txt (line 36)) (3.2.1)\n",
            "Requirement already satisfied: python-dateutil==2.9.0.post0 in /usr/local/lib/python3.11/dist-packages (from -r requirements.txt (line 37)) (2.9.0.post0)\n",
            "Requirement already satisfied: six==1.17.0 in /usr/local/lib/python3.11/dist-packages (from -r requirements.txt (line 38)) (1.17.0)\n",
            "Requirement already satisfied: sympy==1.13.1 in /usr/local/lib/python3.11/dist-packages (from -r requirements.txt (line 39)) (1.13.1)\n",
            "Requirement already satisfied: torch==2.6.0 in /usr/local/lib/python3.11/dist-packages (from -r requirements.txt (line 40)) (2.6.0+cu124)\n",
            "Requirement already satisfied: tqdm==4.67.1 in /usr/local/lib/python3.11/dist-packages (from -r requirements.txt (line 41)) (4.67.1)\n",
            "Requirement already satisfied: triton==3.2.0 in /usr/local/lib/python3.11/dist-packages (from -r requirements.txt (line 42)) (3.2.0)\n",
            "Requirement already satisfied: zipp==3.21.0 in /usr/local/lib/python3.11/dist-packages (from -r requirements.txt (line 43)) (3.21.0)\n",
            "Requirement already satisfied: typing-extensions>=4.10.0 in /usr/local/lib/python3.11/dist-packages (from torch==2.6.0->-r requirements.txt (line 40)) (4.13.1)\n"
          ]
        }
      ]
    },
    {
      "cell_type": "markdown",
      "metadata": {
        "id": "c13c63a6"
      },
      "source": [
        "We will use a discretized version of\n",
        "the [elevator domain](https://ataitler.github.io/IPPC2023/elevator.html) from the International Planning Competition, 2023.\n",
        "\n",
        "Install the pyRDDL gym environment using the given repository."
      ]
    },
    {
      "cell_type": "code",
      "execution_count": null,
      "metadata": {
        "id": "8U02_AG3900U",
        "colab": {
          "base_uri": "https://localhost:8080/"
        },
        "outputId": "e30254e5-b3b4-4e85-fc88-c2b5cc2c931c"
      },
      "outputs": [
        {
          "output_type": "stream",
          "name": "stdout",
          "text": [
            "  Preparing metadata (setup.py) ... \u001b[?25l\u001b[?25hdone\n",
            "  Building wheel for pyRDDLGym (setup.py) ... \u001b[?25l\u001b[?25hdone\n",
            "\u001b[31mERROR: pip's dependency resolver does not currently take into account all the packages that are installed. This behaviour is the source of the following dependency conflicts.\n",
            "dopamine-rl 4.1.2 requires gym<=0.25.2, but you have gym 0.26.2 which is incompatible.\n",
            "tensorflow 2.18.0 requires numpy<2.1.0,>=1.26.0, but you have numpy 2.2.4 which is incompatible.\n",
            "numba 0.60.0 requires numpy<2.1,>=1.22, but you have numpy 2.2.4 which is incompatible.\u001b[0m\u001b[31m\n",
            "\u001b[0m"
          ]
        }
      ],
      "source": [
        "!pip install -q git+https://github.com/tasbolat1/pyRDDLGym.git --force-reinstall\n",
        "\n",
        "## Install other packages if needed"
      ]
    },
    {
      "cell_type": "code",
      "execution_count": null,
      "metadata": {
        "id": "-gknJ0Ud97HT"
      },
      "outputs": [],
      "source": [
        "import torch\n",
        "import torch.nn as nn\n",
        "import torch.optim as optim\n",
        "import torch.nn.functional as F\n",
        "\n",
        "import copy\n",
        "import itertools\n",
        "import numpy as np\n",
        "import random\n",
        "import tqdm\n",
        "import matplotlib.pyplot as plt\n",
        "from collections import deque\n",
        "\n",
        "from pyRDDLGym.Visualizer.MovieGenerator import MovieGenerator # loads visualizer utilites\n",
        "from IPython.display import Image, display, clear_output # for displaying gifs in colab\n",
        "from pyRDDLGym.Elevator import Elevator # imports Discrete Elevator\n",
        "\n",
        "## Add more imports here as required\n",
        "from collections import namedtuple"
      ]
    },
    {
      "cell_type": "markdown",
      "metadata": {
        "id": "fGHWCiCnfCO4"
      },
      "source": [
        "# Environment Initialization"
      ]
    },
    {
      "cell_type": "code",
      "execution_count": null,
      "metadata": {
        "id": "o1E0mIDq-LXu",
        "colab": {
          "base_uri": "https://localhost:8080/"
        },
        "outputId": "e2a9767d-67f2-41ed-bf93-2a1af04d55cc"
      },
      "outputs": [
        {
          "output_type": "stream",
          "name": "stdout",
          "text": [
            "/usr/local/lib/python3.11/dist-packages/pyRDDLGym/Examples /usr/local/lib/python3.11/dist-packages/pyRDDLGym/Examples/manifest.csv\n",
            "Available example environment(s):\n",
            "MarsRover -> Multi Rover Navigation, where a group of agent needs to harvest mineral.\n",
            "MountainCar -> A simple continuous MDP for the classical mountain car control problem.\n",
            "NewLanguage -> Example with new language features.\n",
            "NewtonZero -> Example with Newton root-finding method.\n",
            "PowerGen_discrete -> A simple power generation problem loosely modeled on the problem of unit commitment.\n",
            "PowerGen_continuous -> A continuous simple power generation problem loosely modeled on the problem of unit commitment.\n",
            "RecSim -> A problem of recommendation systems, with consumers and providers.\n",
            "Traffic -> BLX/QTM traffic model.\n",
            "UAV_discrete -> Discrete action space version of multi-UAV problem where a group of UAVs have to reach goal positions in the 3d Space.\n",
            "UAV_continuous -> Continuous action space version of multi-UAV problem where a group of UAVs have to reach goal positions in the 3d Space.\n",
            "UAV_mixed -> Mixed action space version of multi-UAV problem where a group of UAVs have to reach goal positions in the 3d Space.\n",
            "CartPole_discrete -> A simple continuous state MDP for the classical cart-pole system by Rich Sutton, with discrete actions that apply a constant force on either the left or right side of the cart.\n",
            "CartPole_continuous -> A simple continuous state-action MDP for the classical cart-pole system by Rich Sutton, with actions that describe the continuous force applied to the cart.\n",
            "RaceCar -> A simple continuous MDP for the racecar problem.\n",
            "SupplyChain -> A supply chain with factory and multiple warehouses.\n",
            "SupplyChainNet -> A supply chain network with factory and multiple warehouses.\n",
            "Reservoir_discrete -> Discrete version of management of the water level in interconnected reservoirs.\n",
            "Reservoir_continuous -> Continuous action version of management of the water level in interconnected reservoirs.\n",
            "Elevators -> The Elevator domain models evening rush hours when people from different floors in a building want to go down to the bottom floor using elevators.\n",
            "Wildfire -> A boolean version of the wildfire fighting domain.\n",
            "PropDBN -> Simple propositional DBN.\n",
            "HVAC -> Multi-zone and multi-heater HVAC control problem\n",
            "The building has 5 floors and 1 elevators. Each floor has maximum 3 people waiting. Each elevator can carry maximum of 10 people.\n"
          ]
        },
        {
          "output_type": "stream",
          "name": "stderr",
          "text": [
            "/usr/local/lib/python3.11/dist-packages/pyRDDLGym/Core/Env/RDDLConstraints.py:85: UserWarning: Constraint does not have a structure of <action or state fluent> <op> <rhs>, where:\n",
            "<op> is one of {<=, <, >=, >}\n",
            "<rhs> is a deterministic function of non-fluents or constants only.\n",
            ">> ( sum_{?f: floor} [ elevator-at-floor(?e, ?f) ] ) == 1\n",
            "  warnings.warn(\n"
          ]
        },
        {
          "output_type": "stream",
          "name": "stdout",
          "text": [
            "Discrete environment actions:\n",
            "{0: ('e0_movcurdir_0',), 1: ('e0_movcurdir_1',), 2: ('e0_close_0',), 3: ('e0_close_1',), 4: ('e0_open_0',), 5: ('e0_open_1',)}\n",
            "Continuous environment actions:\n",
            "Dict('move-current-dir___e0': Discrete(2), 'open-door___e0': Discrete(2), 'close-door___e0': Discrete(2))\n",
            "Observation space size for the discrete Elevator Environment: 225280\n"
          ]
        }
      ],
      "source": [
        "## IMPORTANT: Do not change the instance of the environment.\n",
        "env = Elevator(instance = 5)\n",
        "\n",
        "print('Discrete environment actions:')\n",
        "print(env.disc_actions)\n",
        "print('Continuous environment actions:')\n",
        "print(env.base_env.action_space)\n",
        "print(f\"Observation space size for the discrete Elevator Environment: {len(env.disc_states)}\")"
      ]
    },
    {
      "cell_type": "markdown",
      "metadata": {
        "id": "e13dca8b"
      },
      "source": [
        "# Hyperparameters"
      ]
    },
    {
      "cell_type": "code",
      "execution_count": null,
      "metadata": {
        "id": "uZrE28ZRGBmk"
      },
      "outputs": [],
      "source": [
        "# Define hyperparameters\n",
        "\n",
        "## IMPORTANT: <BEGIN> DO NOT CHANGE THIS CODE!\n",
        "## GENERAL HYPERPARAMS\n",
        "num_episodes = 3000\n",
        "## IMPORTANT: <END> DO NOT CHANGE THIS CODE!\n",
        "\n",
        "learning_rate = 0.05  # This is arbitrary and will be updated by the scheduler\n",
        "batch_size = 64\n",
        "clip_value = 1.0  # Gradient clipping value\n",
        "\n",
        "## ALGO SPECIFIC HYPERPARAMS\n",
        "# Update the hyperparams as necessary for your implementation"
      ]
    },
    {
      "cell_type": "markdown",
      "metadata": {
        "id": "53155607"
      },
      "source": [
        "# Model Definition\n",
        "\n",
        "Define your model here. You can rename the class `YourModel` appropriately and use it later in the code.\n",
        "Note: In case of actor-critic or other models, all components must subclass `nn.Module`\n",
        "\n",
        "- Your model should take in 11 inputs, which will be derived from the convert_state_to_list function.\n",
        "- Your model should return 6 values corresponding to action logits or probabilities."
      ]
    },
    {
      "cell_type": "code",
      "execution_count": null,
      "metadata": {
        "id": "2bLSWBgLGEVC"
      },
      "outputs": [],
      "source": [
        "class YourModel(nn.Module):\n",
        "    def __init__(self, input_size=13, hidden_size=128, output_size=6):\n",
        "        super(YourModel, self).__init__()\n",
        "        # Your model layers and initializations here\n",
        "        self.fc1 = nn.Linear(input_size, hidden_size)\n",
        "        self.fc2 = nn.Linear(hidden_size, output_size)\n",
        "\n",
        "    def forward(self, x):\n",
        "        # x will be a tensor with shape [batch_size, 11]\n",
        "        # Your forward pass logic here\n",
        "        # Ensure the output has shape [batch_size, 6]\n",
        "        x = self.fc1(x)\n",
        "        x = F.relu(x)\n",
        "        output = self.fc2(x)\n",
        "\n",
        "        return output"
      ]
    },
    {
      "cell_type": "markdown",
      "metadata": {
        "id": "d501d6e1"
      },
      "source": [
        "# Feature Extraction"
      ]
    },
    {
      "cell_type": "code",
      "execution_count": null,
      "metadata": {
        "id": "c96b0591"
      },
      "outputs": [],
      "source": [
        "## IMPORTANT: DO NOT CHANGE THIS CODE!\n",
        "env_features = list(env.observation_space.keys())\n",
        "\n",
        "def convert_state_to_list(state, env_features):\n",
        "    out = []\n",
        "    for i in env_features:\n",
        "        out.append(state[i])\n",
        "    return out"
      ]
    },
    {
      "cell_type": "markdown",
      "metadata": {
        "id": "d4a67d06"
      },
      "source": [
        "# Neural Net Initialization"
      ]
    },
    {
      "cell_type": "code",
      "execution_count": null,
      "metadata": {
        "id": "9uRwCjl7GHDJ"
      },
      "outputs": [],
      "source": [
        "# Initialize the network and optimizer\n",
        "input_size = len(env_features)\n",
        "output_size = 6\n",
        "\n",
        "# INITIALIZE OTHER NETWORK PARAMS HERE\n",
        "hidden_size = 128\n",
        "\n",
        "# INITIALIZE YOUR NETWORK HERE\n",
        "your_network = YourModel(input_size, hidden_size, output_size)\n",
        "\n",
        "# INIT OPTIMIZER - Adam is a good start, but you can try changing this as well\n",
        "# optimizer = optim.Adam(\n",
        "#     your_network.parameters(), lr=learning_rate\n",
        "# )\n",
        "\n",
        "optimizer = optim.RMSprop(\n",
        "    your_network.parameters(), lr=learning_rate,\n",
        ")"
      ]
    },
    {
      "cell_type": "code",
      "source": [
        "import torch.optim.lr_scheduler as lr_scheduler\n",
        "\n",
        "scheduler = lr_scheduler.StepLR(optimizer, step_size=num_episodes/100, gamma=0.9)   # Lr is factored by 0.9 for every 30 steps"
      ],
      "metadata": {
        "id": "sDKOYvH58igB"
      },
      "execution_count": null,
      "outputs": []
    },
    {
      "cell_type": "code",
      "execution_count": null,
      "metadata": {
        "id": "xpEQ5uTqGJIQ",
        "colab": {
          "base_uri": "https://localhost:8080/"
        },
        "outputId": "72541e36-48e8-4289-8a7d-cf7ef528af80"
      },
      "outputs": [
        {
          "output_type": "stream",
          "name": "stdout",
          "text": [
            "cuda:0\n"
          ]
        },
        {
          "output_type": "execute_result",
          "data": {
            "text/plain": [
              "YourModel(\n",
              "  (fc1): Linear(in_features=13, out_features=128, bias=True)\n",
              "  (fc2): Linear(in_features=128, out_features=6, bias=True)\n",
              ")"
            ]
          },
          "metadata": {},
          "execution_count": 115
        }
      ],
      "source": [
        "# Convert networks to CUDA if available\n",
        "device = torch.device(\"cuda:0\" if torch.cuda.is_available() else \"cpu\")\n",
        "print(device)\n",
        "\n",
        "your_network.to(device)\n",
        "\n",
        "# Define other constructs (replay buffers, etc) as necessary"
      ]
    },
    {
      "cell_type": "markdown",
      "source": [
        "## Gradient Clipping (Optional, you can use torch's version as well)"
      ],
      "metadata": {
        "id": "GooOycK-MPib"
      }
    },
    {
      "cell_type": "code",
      "source": [
        "# Define a function for gradient clipping\n",
        "def clip_grads(model, clip_value):\n",
        "    for param in model.parameters():\n",
        "        if param.grad is not None:\n",
        "            # Clip by value\n",
        "            # param.grad.data = torch.clamp(param.grad.data, -clip_value, clip_value)\n",
        "\n",
        "            # Clip gradient with Norm 2 (similar to norm 1 but have square root)\n",
        "            param.grad.data = torch.nn.utils.clip_grad_norm_(param.grad.data, clip_value, norm_type=2.0, error_if_nonfinite=False, foreach=None)"
      ],
      "metadata": {
        "id": "MZM5yTnHMN83"
      },
      "execution_count": null,
      "outputs": []
    },
    {
      "cell_type": "markdown",
      "metadata": {
        "id": "c50a3522"
      },
      "source": [
        "# Live Plotting Setup"
      ]
    },
    {
      "cell_type": "code",
      "execution_count": null,
      "metadata": {
        "id": "kJTkOusq4bbH"
      },
      "outputs": [],
      "source": [
        "# Create a figure for plotting\n",
        "plt.style.use('ggplot')\n",
        "fig, ax = plt.subplots(figsize=(10, 6))\n",
        "plt.ion()\n",
        "\n",
        "# Lists to store rewards and episode numbers\n",
        "rewards_list = []\n",
        "episodes = []\n",
        "\n",
        "def exponential_smoothing(data, alpha=0.1):\n",
        "    \"\"\"Compute exponential smoothing.\"\"\"\n",
        "    smoothed = [data[0]]  # Initialize with the first data point\n",
        "    for i in range(1, len(data)):\n",
        "        st = alpha * data[i] + (1 - alpha) * smoothed[-1]\n",
        "        smoothed.append(st)\n",
        "    return smoothed\n",
        "\n",
        "def live_plot(data_dict, figure, ylabel=\"Total Rewards\"):\n",
        "    \"\"\"Plot the live graph.\"\"\"\n",
        "    clear_output(wait=True)\n",
        "    ax.clear()\n",
        "    for label, data in data_dict.items():\n",
        "        if label == \"Total Reward\":\n",
        "            ax.plot(data, label=label, color=\"yellow\", linestyle='--')\n",
        "\n",
        "            # Compute and plot moving average for total reward\n",
        "            ma = exponential_smoothing(data)\n",
        "            ma_idx_start = len(data) - len(ma)\n",
        "            ax.plot(range(ma_idx_start, len(data)), ma, label=\"Smoothed Value\", linestyle=\"-\", color=\"purple\", linewidth=2)\n",
        "        else:\n",
        "            ax.plot(data, label=label)\n",
        "    ax.set_ylabel(ylabel)\n",
        "    ax.legend(loc='upper left')\n",
        "    display(figure)\n"
      ]
    },
    {
      "cell_type": "markdown",
      "metadata": {
        "id": "232d30e3"
      },
      "source": [
        "# RL Algorithm"
      ]
    },
    {
      "cell_type": "code",
      "source": [
        "# Define the loss calculation function\n",
        "def calculate_loss(batch):\n",
        "    ## TODO - CALCULATE LOSS VALUE & RETURN IT\n",
        "    state_tensor, action, reward, next_state_tensor, done = zip(*batch)\n",
        "\n",
        "    state_tensor = torch.tensor(state_tensor, dtype=torch.float32, device=device)\n",
        "    action = torch.tensor(action, dtype=torch.long, device=device)\n",
        "    reward = torch.tensor(reward, dtype=torch.float32, device=device)\n",
        "    next_state_tensor = torch.tensor(next_state_tensor, dtype=torch.float32, device=device)\n",
        "    done = torch.tensor(done, dtype=torch.float16, device=device)\n",
        "\n",
        "    q_values = your_network(state_tensor)\n",
        "    q_value = q_values.gather(1, action.unsqueeze(1)).squeeze(1)\n",
        "\n",
        "    with torch.no_grad():\n",
        "        next_q_values = your_network(next_state_tensor)\n",
        "        next_q_value = next_q_values.max(1)[0]\n",
        "        target_q_value = reward + (1 - done) * 0.99 * next_q_value  # Discounted reward\n",
        "\n",
        "    loss = F.mse_loss(q_value, target_q_value.detach())\n",
        "\n",
        "    return loss"
      ],
      "metadata": {
        "id": "fItfNTEx8Luf"
      },
      "execution_count": null,
      "outputs": []
    },
    {
      "cell_type": "code",
      "source": [
        "def choose_action(state_tensor, epsilon=0.1):\n",
        "    ## TODO - RETURN AN INTEGER FROM 0 - 5 (both inclusive) based on your model training/testing strategy\n",
        "\n",
        "    if random.random() < epsilon:\n",
        "      return random.randint(0, output_size - 1)\n",
        "    else:\n",
        "      state_dimension = state_tensor.unsqueeze(0)\n",
        "\n",
        "      with torch.no_grad():\n",
        "        q_values = your_network(state_dimension)\n",
        "\n",
        "      return torch.argmax(q_values).item()"
      ],
      "metadata": {
        "id": "mV629tHLL6GQ"
      },
      "execution_count": null,
      "outputs": []
    },
    {
      "cell_type": "code",
      "source": [
        "\n",
        "Transition = namedtuple('Transition',\n",
        "                        ('state', 'action', 'reward', 'next_state', 'done'))\n",
        "\n",
        "class ReplayMemory(object):\n",
        "\n",
        "    def __init__(self, capacity):\n",
        "        self.memory = deque(maxlen=capacity)\n",
        "\n",
        "    def push(self, *args):\n",
        "        \"\"\"Save a transition\"\"\"\n",
        "        self.memory.append(Transition(*args))\n",
        "\n",
        "    def sample(self, batch_size):\n",
        "        return random.sample(self.memory, batch_size)\n",
        "\n",
        "    def __len__(self):\n",
        "        return len(self.memory)\n",
        "\n",
        "memory = ReplayMemory(10000)\n"
      ],
      "metadata": {
        "id": "E6ryIIG31okB"
      },
      "execution_count": null,
      "outputs": []
    },
    {
      "cell_type": "markdown",
      "source": [
        "## Training loop with live plotting\n",
        "\n",
        "Use the graph generated here in your pdf submission."
      ],
      "metadata": {
        "id": "ZKakuRs4ELDu"
      }
    },
    {
      "cell_type": "code",
      "execution_count": null,
      "metadata": {
        "id": "aVy8Zc8vGV7D"
      },
      "outputs": [],
      "source": [
        "plt.style.use('ggplot')\n",
        "fig, ax = plt.subplots(figsize=(10, 6))\n",
        "plt.ion()\n",
        "\n",
        "# Create a tqdm progress bar\n",
        "progress_bar = tqdm.tqdm(range(num_episodes), postfix={'Total Reward': 0, 'Loss': 0})\n",
        "\n",
        "# RL algorithm training loop\n",
        "for episode in progress_bar:\n",
        "    total_reward = 0\n",
        "    state = env.reset()\n",
        "\n",
        "    while True:\n",
        "        # Convert the original state to the suitable format for the network\n",
        "        state_desc = env.disc2state(state)\n",
        "        state_list = convert_state_to_list(state_desc, env_features)\n",
        "        state_tensor = torch.tensor(state_list, dtype=torch.float32, device=device)\n",
        "\n",
        "        action = choose_action(state_tensor, epsilon=max(0.01, 0.1 * (0.99 ** episode)))\n",
        "\n",
        "        # Take the chosen action and observe the next state and reward\n",
        "        next_state, reward, done, _ = env.step((action))\n",
        "\n",
        "        # For debugging\n",
        "        # print(f'reward {reward}')\n",
        "\n",
        "        # Convert the next state to the suitable format for the network\n",
        "        next_state_desc = env.disc2state(next_state)\n",
        "        next_state_list = convert_state_to_list(next_state_desc, env_features)\n",
        "        next_state_tensor = torch.tensor(next_state_list, dtype=torch.float32, device=device)\n",
        "\n",
        "\n",
        "        # Hint: You may want to collect experiences from the environment to update the agent in batches!\n",
        "\n",
        "        memory.push(state_list, action, reward, next_state_list, done)\n",
        "\n",
        "        if len(memory) > batch_size:\n",
        "            batch = memory.sample(batch_size)\n",
        "            # print(f'batch {batch}')\n",
        "            loss = calculate_loss(batch)\n",
        "\n",
        "            optimizer.zero_grad()\n",
        "\n",
        "            clip_grads(your_network, clip_value)      # Gradient Clipping\n",
        "\n",
        "            loss.backward()\n",
        "            optimizer.step()\n",
        "\n",
        "        state = next_state\n",
        "        total_reward += reward\n",
        "\n",
        "        # For debugging\n",
        "        # print(f'total reward: {total_reward}')\n",
        "\n",
        "        if done:\n",
        "            break\n",
        "\n",
        "\n",
        "    rewards_list.append(total_reward)\n",
        "    episodes.append(episode)\n",
        "\n",
        "    live_plot({'Total Reward': rewards_list}, fig)\n",
        "\n",
        "    scheduler.step()\n",
        "\n",
        "    # Saving the model\n",
        "    if episode%500 == 0:\n",
        "      torch.save(your_network, f'model.pt')\n",
        "\n",
        "    progress_bar.set_postfix({'Total Reward': total_reward, 'Loss': loss.item(), 'lr': scheduler.get_lr()})"
      ]
    },
    {
      "cell_type": "markdown",
      "source": [
        "## Compute the mean rewards\n",
        "\n",
        "Report the mean rewards obtained in your pdf submission"
      ],
      "metadata": {
        "id": "Hp0VFEQpF57M"
      }
    },
    {
      "cell_type": "code",
      "source": [
        "mean_reward = np.mean(rewards_list)\n",
        "\n",
        "print(f\"\\nMean Rewards: {mean_reward}\")"
      ],
      "metadata": {
        "id": "yCL1WgMHF86n"
      },
      "execution_count": null,
      "outputs": []
    },
    {
      "cell_type": "code",
      "source": [
        "\n",
        "# close the environment\n",
        "env.close()"
      ],
      "metadata": {
        "id": "1xbF_7P6A8tD"
      },
      "execution_count": null,
      "outputs": []
    },
    {
      "cell_type": "markdown",
      "source": [
        "# Report"
      ],
      "metadata": {
        "id": "Ip0c71Dtktbr"
      }
    },
    {
      "cell_type": "markdown",
      "source": [
        "**1. What is the mean rewards obtained by our agent?**  \n",
        "![mean_result.png](data:image/png;base64,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)  \n",
        "The mean obtained by our agent is -229.0545\n"
      ],
      "metadata": {
        "id": "2pRmb9TekwAq"
      }
    },
    {
      "cell_type": "markdown",
      "source": [
        "**2. Briefly state and explain the algorithm you chose and the hyperparams used.**  \n",
        "The algorithm we used for this problem is the Deep Q-Networks (DQN) algorithm, a deep reinforcement learning algorithm introduced by Mnih et al. (2015). DQNs utilize the concept of Q-networks, which are used to estimate the rewards from an action taken by the agent (Silver, 2016). DQNs represent these Q-networks through deep neural networks. The DQN also has a replay memory which saves the agent’s history (the current and next state, action it performed, and reward obtained).\n",
        "\n",
        "How our Deep Q-Networks algorithm works:\n",
        "1. Initialize 2 layer MLP network\n",
        "2. Choose the next action from the list of possible actions in the current state.\n",
        "We use an epsilon greedy approach to balance exploration and exploitation, where we generate a random decimal.  \n",
        "  - If the decimal is lower than our selected epsilon, choose the next action randomly\n",
        "  - If the decimal is the same or higher than our selected epsilon, feed the actions to the network and choose the action that produced the highest Q value.\n",
        "3. Continue to the next state based on the selected action.\n",
        "4. Save the states, action taken, and reward produced into the replay memory, which is used to update the weights of our network.\n",
        "\n",
        "We chose this algorithm because it is a derivation of the Q-Learning approach which works with discrete state-action spaces such as in the elevator problem (Sutton & Barto, 2018).\n",
        "\n",
        "**Hyperparameters used**  \n",
        "- Initial learning rate = 0.05\n",
        "  - We also use a learning rate scheduler that reduces the learning rate with a factor of 0.9 every 30 steps. This will give us a constant decrease that will reach 1.195e-06 on the last 30 steps.\n",
        "- Batch size = 64\n",
        "- Clip value = 1.0\n",
        "  - We tried doing the gradient clipping by experimenting with different clip_value using the ‘clip by value’ method and the ‘norm’ method. After a few iterations, we decided to use the L2 Norm Gradient Clipping as it gives us a more stable result with no risk of extreme reward dropping that we observed previously by using the L1 Norm Gradient Clipping.\n",
        "  - Based on what we analyze, this issue is caused by the calculation where the L2 norm calculates the square root which eliminates an extremely high number by a major factor which acts as a stabilizer unlike the L1 method that only takes absolute value that is prone to extreme large gradient results (GeeksForGeeks, 2024).\n",
        "- Network Architecture  \n",
        "```\n",
        "YourModel(\n",
        "  (fc1): Linear(in_features=13, out_features=128, bias=True)\n",
        "  (fc2): Linear(in_features=128, out_features=6, bias=True)\n",
        "```\n",
        "  - We only use 2 linear layers which take the number of states (13) as input and number of actions (6) as output. For the hidden size, we put 128 as we want to have sufficient neurons to do a decent function approximation. We design the architecture to match the Universal Approximation theory which allows us to approximate a continuous function. <br><br>\n",
        "\n",
        "> All of the hyperparameters were chosen through exploration and experimentation step. The hyperparameters used in this code were the ones that gave the best results."
      ],
      "metadata": {
        "id": "T57yWp-Mk0Vo"
      }
    },
    {
      "cell_type": "markdown",
      "source": [
        "**3. Write insights based on the analysis.**"
      ],
      "metadata": {
        "id": "Y9YNFuDdmxfr"
      }
    },
    {
      "cell_type": "markdown",
      "source": [
        "![latest_train_result.png](data:image/png;base64,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)"
      ],
      "metadata": {
        "id": "OOFuYimDmyxP"
      }
    },
    {
      "cell_type": "markdown",
      "source": [
        "In the initial epochs (0 to around 100), there is a steep increase of total rewards. This shows that the agent is learning effectively to find the policies because of the improvements in total reward value. After that, from epochs 100 to around 600, the fluctuation in the total rewards becomes more stable and still shows an increase in value. Afterwards, the smoothed total rewards remain steady in between -1000 to 0. As the number epoch increases, the scheduler will reduce the learning_rate which makes the oscillation converge overtime. However, there are some noticeable drops on the total reward on epoch 1200 and 1600. But then our model is able to balance the learning and get back on its stable state. <br><br>\n",
        "\n",
        "By analyzing our past results of the mean reward, we believe that it is very challenging for the model to reach rewards larger than 0. As none of our numerous experiments on the learning rate scheduler and gradient clipping method and value yield better results. However, there are some approaches that we wish to try such as the adaptive gradient clipping method, which is a more advanced method than the L2 that we used in this project. And also different types of DQN algorithms that might fit the elevator problem better."
      ],
      "metadata": {
        "id": "SkplyaqimzJR"
      }
    },
    {
      "cell_type": "markdown",
      "source": [
        "> **Help:**\n",
        "During the coding of this assignment, we used ChatGPT to help create the initial model structure and do debugging.\n"
      ],
      "metadata": {
        "id": "XZgYEPAGnJXt"
      }
    },
    {
      "cell_type": "markdown",
      "source": [
        "References:  \n",
        "* Mnih, V., Kavukcuoglu, K., Silver, D., Rusu, A. A., Veness, J., Bellemare, M. G., . . . Hassabis, D. (2015). Human-level control through deep reinforcement learning. Nature, 518(7540), 529–533. https://doi.org/10.1038/nature14236\n",
        "* Silver, D. (2016, June 17). Deep Reinforcement Learning. Retrieved April 18, 2025, from https://deepmind.google/discover/blog/deep-reinforcement-learning/\n",
        "* Sutton, R. S., & Barto, A. G. (2018). Reinforcement Learning, second edition: An Introduction. MIT Press.\n",
        "* GeeksforGeeks. (2024, January 18). Understanding gradient clipping. GeeksforGeeks. https://www.geeksforgeeks.org/understanding-gradient-clipping/\n"
      ],
      "metadata": {
        "id": "bfZ-JThknMZk"
      }
    }
  ],
  "metadata": {
    "accelerator": "GPU",
    "colab": {
      "gpuType": "T4",
      "provenance": []
    },
    "kernelspec": {
      "display_name": "Python 3",
      "name": "python3"
    },
    "language_info": {
      "name": "python"
    }
  },
  "nbformat": 4,
  "nbformat_minor": 0
}